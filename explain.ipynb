{
  "nbformat": 4,
  "nbformat_minor": 0,
  "metadata": {
    "colab": {
      "provenance": []
    },
    "kernelspec": {
      "name": "python3",
      "display_name": "Python 3"
    },
    "language_info": {
      "name": "python"
    }
  },
  "cells": [
    {
      "cell_type": "code",
      "execution_count": null,
      "metadata": {
        "id": "PeIoNgDlpkxF"
      },
      "outputs": [],
      "source": []
    },
    {
      "cell_type": "markdown",
      "source": [
        "# 工具說明"
      ],
      "metadata": {
        "id": "z-NJ1VVeXKN5"
      }
    },
    {
      "cell_type": "markdown",
      "source": [
        "* 你可以點目錄看到所有的結構\n",
        "\n",
        "![001](https://raw.githubusercontent.com/tobytoy/Colab-Manager/main/pictures/explain_001.png)\n",
        "\n",
        "\n"
      ],
      "metadata": {
        "id": "24nBR1eyXQB1"
      }
    },
    {
      "cell_type": "code",
      "source": [],
      "metadata": {
        "id": "YJgp1bbrftAo"
      },
      "execution_count": null,
      "outputs": []
    },
    {
      "cell_type": "markdown",
      "source": [
        "* 你可以點檔案看到所有檔案目錄的結構\n",
        "\n",
        "![002](https://raw.githubusercontent.com/tobytoy/Colab-Manager/main/pictures/explain_002.png)"
      ],
      "metadata": {
        "id": "tWEGSuNeftc-"
      }
    },
    {
      "cell_type": "markdown",
      "source": [
        "## 檔案目錄結構\n",
        "\n",
        "下面是目錄結構的說明。\n",
        "\n",
        "```\n",
        "+-- Colab-Manager\n",
        "|   +-- manager    (程式主要區域)\n",
        "|   +-- pictures    (說明圖檔)\n",
        "|   +-- temp      (暫存區)\n",
        "|   +-- videos     (上傳影片區域)\n",
        "|      +-- 20 min single dumbbell legs.mp4 (預設範例影片)\n",
        "|   +-- datas     (上傳資料區域)\n",
        "|      +-- demo_content.xlsx (預設示範資料)\n",
        "|   +-- videos_output  (處理完的影片放置區域)\n",
        "|   +-- datas_output  (處理完的資料放置區域)\n",
        "+-- sample_data      (Colab 預設的檔案可以不理他)\n",
        "```\n",
        "\n",
        "小提醒\n",
        "* 影片的檔案類型請用 \"mp4\"，這邊提供的影片預覽工具只能觀看45秒的影片。\n",
        "* 上傳的資料 ( data )，只可以讀到 xlsx、json and pickle。\n",
        "\n",
        "\n"
      ],
      "metadata": {
        "id": "oZu_ktHvp5sS"
      }
    },
    {
      "cell_type": "code",
      "source": [],
      "metadata": {
        "id": "KmD0GRpMXJq8"
      },
      "execution_count": null,
      "outputs": []
    },
    {
      "cell_type": "markdown",
      "source": [
        "# 登入\n",
        "請填入帳號密碼，然後選擇使用者，Project 可以修改為這一次的項目名稱。\n",
        "\n",
        "![003](https://raw.githubusercontent.com/tobytoy/Colab-Manager/main/pictures/explain_003.png)\n"
      ],
      "metadata": {
        "id": "_NCBZeGhpxZN"
      }
    },
    {
      "cell_type": "code",
      "source": [],
      "metadata": {
        "id": "v46PjCFWpw2W"
      },
      "execution_count": null,
      "outputs": []
    },
    {
      "cell_type": "markdown",
      "source": [
        "你可以利用關注項目工具修改，影片與檔案的關注位置。\n",
        "\n",
        "![004](https://raw.githubusercontent.com/tobytoy/Colab-Manager/main/pictures/explain_004.png)\n"
      ],
      "metadata": {
        "id": "t89NXnKgZZ9P"
      }
    },
    {
      "cell_type": "code",
      "source": [],
      "metadata": {
        "id": "SWbLwYfVpw5r"
      },
      "execution_count": null,
      "outputs": []
    },
    {
      "cell_type": "markdown",
      "source": [
        "* 你可以用下載工具整包下載檔案，如果你要下載的只有一個檔案可以到檔案目錄下面去下載單個檔案。\n",
        "\n",
        "![005](https://raw.githubusercontent.com/tobytoy/Colab-Manager/main/pictures/explain_005.png)\n"
      ],
      "metadata": {
        "id": "57gyhNz0a24u"
      }
    },
    {
      "cell_type": "markdown",
      "source": [
        "* 你可以用影片顯示工具觀看，目前選擇的影片\n",
        "\n",
        "![006](https://raw.githubusercontent.com/tobytoy/Colab-Manager/main/pictures/explain_006.png)\n",
        "\n",
        "* 你可以用檔案顯示工具觀看，目前選擇的檔案\n",
        "\n",
        "![007](https://raw.githubusercontent.com/tobytoy/Colab-Manager/main/pictures/explain_007.png)\n"
      ],
      "metadata": {
        "id": "m3yYO0ZFbfCY"
      }
    },
    {
      "cell_type": "code",
      "source": [],
      "metadata": {
        "id": "ub79jczXa3Lc"
      },
      "execution_count": null,
      "outputs": []
    },
    {
      "cell_type": "code",
      "source": [],
      "metadata": {
        "id": "Pb361V3Fb1V5"
      },
      "execution_count": null,
      "outputs": []
    },
    {
      "cell_type": "markdown",
      "source": [
        "# 下面示範一套標注流程 ＳＯＰ"
      ],
      "metadata": {
        "id": "lmRzNkNub3VW"
      }
    },
    {
      "cell_type": "code",
      "source": [],
      "metadata": {
        "id": "esU7ZdezcASq"
      },
      "execution_count": null,
      "outputs": []
    },
    {
      "cell_type": "markdown",
      "source": [
        "* 我們要先下載這次 Demo 的示範影片，然後根據excel檔案去剪輯影片，因為是 Demo 所以我們只剪輯兩個動作。\n",
        "\n",
        "![008](https://raw.githubusercontent.com/tobytoy/Colab-Manager/main/pictures/explain_008.png)"
      ],
      "metadata": {
        "id": "rZOuigD5cBEE"
      }
    },
    {
      "cell_type": "markdown",
      "source": [
        "* 再進入下一步標記剪輯前我們先再檢查一次影片有沒有問題。\n",
        "\n",
        "![009](https://raw.githubusercontent.com/tobytoy/Colab-Manager/main/pictures/explain_009.png)"
      ],
      "metadata": {
        "id": "AvXG2s9LdqLX"
      }
    },
    {
      "cell_type": "code",
      "source": [],
      "metadata": {
        "id": "KF7tCDytcAXy"
      },
      "execution_count": null,
      "outputs": []
    },
    {
      "cell_type": "markdown",
      "source": [
        "* 我們要選出很貼合要比對動作的片段，這次 Demo 我們就直接選開始時間３秒結束時間７秒就好，真實標註要看過影片再選會比較好。\n",
        "\n",
        "![010](https://raw.githubusercontent.com/tobytoy/Colab-Manager/main/pictures/explain_010.png)"
      ],
      "metadata": {
        "id": "uVhN7FDQdvqU"
      }
    },
    {
      "cell_type": "code",
      "source": [],
      "metadata": {
        "id": "KDllIGs4cAac"
      },
      "execution_count": null,
      "outputs": []
    },
    {
      "cell_type": "markdown",
      "source": [
        "* 利用標註工具我們要匡出主角\n",
        "\n",
        "![011](https://raw.githubusercontent.com/tobytoy/Colab-Manager/main/pictures/explain_011.png)"
      ],
      "metadata": {
        "id": "_AOplHBLdzpo"
      }
    },
    {
      "cell_type": "code",
      "source": [],
      "metadata": {
        "id": "4JlJ2TULdzFT"
      },
      "execution_count": null,
      "outputs": []
    },
    {
      "cell_type": "markdown",
      "source": [
        "* 這版標註工具也支持舊版\n",
        "\n",
        "![012](https://raw.githubusercontent.com/tobytoy/Colab-Manager/main/pictures/explain_012.png)"
      ],
      "metadata": {
        "id": "1CuWhtyqd3fg"
      }
    },
    {
      "cell_type": "code",
      "source": [],
      "metadata": {
        "id": "bhjvcXCAd23q"
      },
      "execution_count": null,
      "outputs": []
    },
    {
      "cell_type": "markdown",
      "source": [
        "* 下面開始處理影片，工具也支持影片左右翻轉。\n",
        "\n",
        "![013](https://raw.githubusercontent.com/tobytoy/Colab-Manager/main/pictures/explain_013.png)"
      ],
      "metadata": {
        "id": "AQk65dy6d6lW"
      }
    },
    {
      "cell_type": "code",
      "source": [],
      "metadata": {
        "id": "szVxHHjBd26P"
      },
      "execution_count": null,
      "outputs": []
    },
    {
      "cell_type": "markdown",
      "source": [
        "* 下面開始跑人體點位模型\n",
        "\n",
        "![014](https://raw.githubusercontent.com/tobytoy/Colab-Manager/main/pictures/explain_014.png)"
      ],
      "metadata": {
        "id": "ixi9-3wad9Xq"
      }
    },
    {
      "cell_type": "code",
      "source": [],
      "metadata": {
        "id": "x5bycFEjd28S"
      },
      "execution_count": null,
      "outputs": []
    },
    {
      "cell_type": "markdown",
      "source": [
        "* 下面要開始製作動作判定標記 Json 檔\n",
        "\n",
        "![015](https://raw.githubusercontent.com/tobytoy/Colab-Manager/main/pictures/explain_015.png)"
      ],
      "metadata": {
        "id": "95B10VCGeAzs"
      }
    },
    {
      "cell_type": "code",
      "source": [],
      "metadata": {
        "id": "QsA7B99Xd2-e"
      },
      "execution_count": null,
      "outputs": []
    },
    {
      "cell_type": "code",
      "source": [],
      "metadata": {
        "id": "yeJRrx0cdzHx"
      },
      "execution_count": null,
      "outputs": []
    },
    {
      "cell_type": "markdown",
      "source": [
        "# Json 簡單說明\n",
        "\n",
        "* version : 版本\n",
        "* duration : 幾秒要重置 flag\n",
        "\n",
        "## focusOnHumanKeypoint : 人體關鍵點的關注部位\n",
        "\n",
        "* part : 部位 可以填入 （ left_arm, right_arm, left_leg, right_leg, body ）\n",
        "* type : 推算方法的類型 可以填入 （ angle, vector, slope ）\n",
        "* method : 推算方法，如果 type 是 slope 請填 11\n",
        "* k_index : 你想要偵測的點位\n",
        "* k_1 : 如果要偵測 slope ， 第 1 個點\n",
        "* k_2 : 如果要偵測 slope ， 第 2 個點\n",
        "* threshold : 信心多少相信有這個點位\n",
        "* move_type : 可以填入 （ hold, around ）\n",
        "* checkPoints : 關卡\n",
        "\n",
        "\n",
        "\n",
        "## 模型預測點位順序\n",
        "* 00. nose\n",
        "* 01. left eye\n",
        "* 02. right eye\n",
        "* 03. left ear\n",
        "* 04. right ear\n",
        "* 05. left shoulder\n",
        "* 06. right shoulder\n",
        "* 07. left elbow\n",
        "* 08. right elbow\n",
        "* 09. left wrist\n",
        "* 10. right wrist\n",
        "* 11. left hip\n",
        "* 12. right hip\n",
        "* 13. left knee\n",
        "* 14. right knee\n",
        "* 15. left ankle\n",
        "* 16. right ankle"
      ],
      "metadata": {
        "id": "lm26FeJwFDFO"
      }
    },
    {
      "cell_type": "code",
      "source": [],
      "metadata": {
        "id": "dM5HumikFCRA"
      },
      "execution_count": null,
      "outputs": []
    },
    {
      "cell_type": "markdown",
      "source": [
        "* 工具支持 Json Schema 檢查，如果有格式錯誤可以方便修改\n",
        "\n",
        "![016](https://raw.githubusercontent.com/tobytoy/Colab-Manager/main/pictures/explain_016.png)"
      ],
      "metadata": {
        "id": "wh3sVgaee1IT"
      }
    },
    {
      "cell_type": "code",
      "source": [],
      "metadata": {
        "id": "xTpw_UMyeOG_"
      },
      "execution_count": null,
      "outputs": []
    },
    {
      "cell_type": "markdown",
      "source": [
        "* 下面就把檔案寫入\n",
        "\n",
        "![017](https://raw.githubusercontent.com/tobytoy/Colab-Manager/main/pictures/explain_017.png)"
      ],
      "metadata": {
        "id": "gt9fYHyse35u"
      }
    },
    {
      "cell_type": "code",
      "source": [],
      "metadata": {
        "id": "tdLQAqoveOKD"
      },
      "execution_count": null,
      "outputs": []
    },
    {
      "cell_type": "markdown",
      "source": [
        "* 工具提供檔案壓縮\n",
        "\n",
        "![018](https://raw.githubusercontent.com/tobytoy/Colab-Manager/main/pictures/explain_018.png)"
      ],
      "metadata": {
        "id": "8Tv0htrNe6fu"
      }
    },
    {
      "cell_type": "code",
      "source": [],
      "metadata": {
        "id": "wjh3ifAueOMo"
      },
      "execution_count": null,
      "outputs": []
    },
    {
      "cell_type": "markdown",
      "source": [
        "* 也支持 Hash 輸出\n",
        "\n",
        "![019](https://raw.githubusercontent.com/tobytoy/Colab-Manager/main/pictures/explain_019.png)"
      ],
      "metadata": {
        "id": "keLOuILJe9JL"
      }
    },
    {
      "cell_type": "code",
      "source": [],
      "metadata": {
        "id": "bdyGjaG3eOSX"
      },
      "execution_count": null,
      "outputs": []
    },
    {
      "cell_type": "markdown",
      "source": [
        "* 最後提供暫時性 api server\n",
        "\n",
        "![020](https://raw.githubusercontent.com/tobytoy/Colab-Manager/main/pictures/explain_020.png)"
      ],
      "metadata": {
        "id": "caGhr5gre_iz"
      }
    },
    {
      "cell_type": "code",
      "source": [],
      "metadata": {
        "id": "V8gOTsYseOUN"
      },
      "execution_count": null,
      "outputs": []
    },
    {
      "cell_type": "markdown",
      "source": [
        "# 恭喜你\n",
        "\n",
        "做到目前影片檔案在 \"/content/Colab-Manager/videos_output/target.mp4\"，\n",
        "標記資料在 \"/content/Colab-Manager/datas_output/labels.json\"，簡化的標記資料在\n",
        "\"/content/Colab-Manager/datas_output/labels-simple.json\"，可以下載這些影片跟標記資料，或是繼續跑暫時性的 api server 去做串接。"
      ],
      "metadata": {
        "id": "5oTrltmwH8ag"
      }
    },
    {
      "cell_type": "code",
      "source": [],
      "metadata": {
        "id": "It4vc1EnFCbc"
      },
      "execution_count": null,
      "outputs": []
    },
    {
      "cell_type": "markdown",
      "source": [
        "# 如果需要一個測試的暫時性 api server 做測試，可以繼續跑\n",
        "\n",
        "你需要 [Ngrok](https://ngrok.com/) 做反向代理，所以要在下面填入你的 authtoken key ，你可以免費申請到帳號，根據下圖你可以得到你的 authtoken key\n"
      ],
      "metadata": {
        "id": "nKCaVOTYICr3"
      }
    },
    {
      "cell_type": "markdown",
      "source": [
        "![Ngrok](https://raw.githubusercontent.com/tobytoy/Colab-Manager/main/pictures/Ngrok.png)\n"
      ],
      "metadata": {
        "id": "F_Xn9OHPID2o"
      }
    },
    {
      "cell_type": "code",
      "source": [],
      "metadata": {
        "id": "6yygqr5xFCku"
      },
      "execution_count": null,
      "outputs": []
    },
    {
      "cell_type": "code",
      "source": [],
      "metadata": {
        "id": "pVSOFXN-IIW_"
      },
      "execution_count": null,
      "outputs": []
    },
    {
      "cell_type": "code",
      "source": [],
      "metadata": {
        "id": "A-vG21mCIIZw"
      },
      "execution_count": null,
      "outputs": []
    },
    {
      "cell_type": "code",
      "source": [],
      "metadata": {
        "id": "slFST4O5IIbx"
      },
      "execution_count": null,
      "outputs": []
    },
    {
      "cell_type": "code",
      "source": [],
      "metadata": {
        "id": "XdlrBQYEIIeZ"
      },
      "execution_count": null,
      "outputs": []
    },
    {
      "cell_type": "code",
      "source": [],
      "metadata": {
        "id": "nDaIDcOzIIgJ"
      },
      "execution_count": null,
      "outputs": []
    }
  ]
}