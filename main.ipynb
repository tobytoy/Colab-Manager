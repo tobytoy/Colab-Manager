{
 "cells": [
  {
   "cell_type": "code",
   "execution_count": null,
   "metadata": {},
   "outputs": [],
   "source": []
  },
  {
   "cell_type": "markdown",
   "metadata": {},
   "source": [
    "# Version V 1.1.1\n",
    "\n",
    "# 請先上傳模型檔案與影片\n",
    "\n",
    "* 影片的檔案類型請用 \"mp4\"\n",
    "\n"
   ]
  },
  {
   "cell_type": "markdown",
   "metadata": {},
   "source": [
    "# 初始化小仙女\n",
    "  "
   ]
  },
  {
   "cell_type": "code",
   "execution_count": 1,
   "metadata": {},
   "outputs": [
    {
     "name": "stderr",
     "output_type": "stream",
     "text": [
      "2023-09-18 16:09:23.672626: I tensorflow/core/platform/cpu_feature_guard.cc:182] This TensorFlow binary is optimized to use available CPU instructions in performance-critical operations.\n",
      "To enable the following instructions: AVX2 AVX512F AVX512_VNNI FMA, in other operations, rebuild TensorFlow with the appropriate compiler flags.\n"
     ]
    },
    {
     "name": "stdout",
     "output_type": "stream",
     "text": [
      "video path : videos/20 min single dumbbell legs_fit.mp4, model path : manager/models/movenet_singlepose_thunder_4\n"
     ]
    }
   ],
   "source": [
    "from manager.util import Fairy\n",
    "\n",
    "fairy = Fairy()\n"
   ]
  },
  {
   "cell_type": "markdown",
   "metadata": {},
   "source": [
    "# 影片前處理"
   ]
  },
  {
   "cell_type": "code",
   "execution_count": null,
   "metadata": {},
   "outputs": [],
   "source": [
    "# 影片寬高\n",
    "video_hw = 530 \n",
    "# 起始 x座標\n",
    "start_x = 350 \n",
    "# 起始 y座標\n",
    "start_y = 120 \n",
    "# 以第幾個 frame 為標準\n",
    "frame_index = 50 \n",
    "\n",
    "from manager.video import Video\n",
    "\n",
    "video = Video(video_path = fairy.video_path, frame_index = frame_index)\n",
    "video.draw_rectangle(video_hw = video_hw, start_x = start_x, start_y = start_y)\n"
   ]
  },
  {
   "cell_type": "markdown",
   "metadata": {},
   "source": [
    "# 開始處理影片"
   ]
  },
  {
   "cell_type": "code",
   "execution_count": null,
   "metadata": {},
   "outputs": [],
   "source": [
    "# 是否左右翻轉\n",
    "flip_check = False \n",
    "\n",
    "video.video_cutting(flip_flag = flip_check, show = False)\n"
   ]
  },
  {
   "cell_type": "markdown",
   "metadata": {},
   "source": [
    "# 跑人體點位模型"
   ]
  },
  {
   "cell_type": "code",
   "execution_count": null,
   "metadata": {},
   "outputs": [],
   "source": [
    "fairy.model_inference_video()"
   ]
  },
  {
   "cell_type": "markdown",
   "metadata": {},
   "source": [
    "# 修改點位（如果點位沒錯不用跑）"
   ]
  },
  {
   "cell_type": "code",
   "execution_count": null,
   "metadata": {},
   "outputs": [],
   "source": [
    "# 是否改完\n",
    "save_pickle_check = False \n",
    "\n",
    "# 第幾個 frame\n",
    "frame_index = 10 \n",
    "# 影片位置\n",
    "body_index = 10 \n",
    "# x 座標\n",
    "x_rate = 0.5 \n",
    "# y 座標\n",
    "y_rate = 0.5 \n",
    "\n",
    "fairy.modify_pickle(frame_index = frame_index, \n",
    "                    body_index = body_index,\n",
    "                    x_rate = x_rate,\n",
    "                    y_rate = y_rate,\n",
    "                    save_pickle_check = save_pickle_check)\n",
    "\n"
   ]
  },
  {
   "cell_type": "markdown",
   "metadata": {},
   "source": [
    "# Json 簡單說明\n",
    "\n",
    "* version : 版本\n",
    "* duration : 幾秒要重置 flag\n",
    "\n",
    "## focusOnHumanKeypoint : 人體關鍵點的關注部位\n",
    "\n",
    "* part : 部位 可以填入 （ left_arm, right_arm, left_leg, right_leg, body ）\n",
    "* type : 推算方法的類型 可以填入 （ angle, vector, slope ）\n",
    "* method : 推算方法，如果 type 是 slope 請填 11\n",
    "* k_index : 你想要偵測的點位\n",
    "* k_1 : 如果要偵測 slope ， 第 1 個點\n",
    "* k_2 : 如果要偵測 slope ， 第 2 個點\n",
    "* threshold : 信心多少相信有這個點位\n",
    "* move_type : 可以填入 （ hold, around ）\n",
    "* checkPoints : 關卡\n",
    "\n",
    "\n",
    "\n",
    "## 模型預測點位順序\n",
    "* 00. nose\n",
    "* 01. left eye\n",
    "* 02. right eye\n",
    "* 03. left ear\n",
    "* 04. right ear\n",
    "* 05. left shoulder\n",
    "* 06. right shoulder\n",
    "* 07. left elbow\n",
    "* 08. right elbow\n",
    "* 09. left wrist\n",
    "* 10. right wrist\n",
    "* 11. left hip\n",
    "* 12. right hip\n",
    "* 13. left knee\n",
    "* 14. right knee\n",
    "* 15. left ankle\n",
    "* 16. right ankle\n",
    "\n",
    "\n"
   ]
  },
  {
   "cell_type": "code",
   "execution_count": 2,
   "metadata": {},
   "outputs": [],
   "source": [
    "# Json Data Sample\n",
    "sample_json = {\n",
    "  \"version\" : \"v1.1.1\",\n",
    "  \"label\" : [],\n",
    "  \"duration\" : 10,\n",
    "  \"focusOnHumanKeypoint\": [\n",
    "    {\n",
    "      \"part\" : \"left_arm\",\n",
    "      \"type\" : \"angle\",\n",
    "      \"method\" : 123,\n",
    "      \"k_index\" : 9,\n",
    "      \"k_1\" : 0,\n",
    "      \"k_2\" : 1,\n",
    "      \"threshold\" : 0.4,\n",
    "      \"move_type\" : \"hold\",\n",
    "      \"checkPoints\" : [\n",
    "        { \"label_index\":  10, \"d\": 0.1 },\n",
    "      ]\n",
    "    },\n",
    "    {\n",
    "      \"part\" : \"right_arm\",\n",
    "      \"type\" : \"angle\",\n",
    "      \"method\" : 123,\n",
    "      \"k_index\" : 10,\n",
    "      \"k_1\" : 0,\n",
    "      \"k_2\" : 1,\n",
    "      \"threshold\" : 0.4,\n",
    "      \"move_type\" : \"hold\",\n",
    "      \"checkPoints\" : [\n",
    "        { \"label_index\":  10, \"d\": 0.1 },\n",
    "      ]\n",
    "    },\n",
    "    {\n",
    "      \"part\" : \"left_leg\",\n",
    "      \"type\" : \"angle\",\n",
    "      \"method\" : 12,\n",
    "      \"k_index\" : 13,\n",
    "      \"k_1\" : 0,\n",
    "      \"k_2\" : 1,\n",
    "      \"threshold\" : 0.4,\n",
    "      \"move_type\" : \"around\",\n",
    "      \"checkPoints\" : [\n",
    "        { \"label_index\":   0, \"d\": 0.07 },\n",
    "        { \"label_index\":  21, \"d\": 0.07 },\n",
    "        { \"label_index\":  41, \"d\": 0.07 },\n",
    "        { \"label_index\": 61, \"d\": 0.07 },\n",
    "        { \"label_index\": 81, \"d\": 0.07 },\n",
    "        { \"label_index\": 101, \"d\": 0.07 },\n",
    "        { \"label_index\": 111, \"d\": 0.07 },\n",
    "      ]\n",
    "    },\n",
    "    {\n",
    "      \"part\" : \"right_leg\",\n",
    "      \"type\" : \"angle\",\n",
    "      \"method\" : 12,\n",
    "      \"k_index\" : 14,\n",
    "      \"k_1\" : 0,\n",
    "      \"k_2\" : 1,\n",
    "      \"threshold\" : 0.4,\n",
    "      \"move_type\" : \"around\",\n",
    "      \"checkPoints\" : [\n",
    "        { \"label_index\":   0, \"d\": 0.07 },\n",
    "        { \"label_index\":  21, \"d\": 0.07 },\n",
    "        { \"label_index\":  41, \"d\": 0.07 },\n",
    "        { \"label_index\": 61, \"d\": 0.07 },\n",
    "        { \"label_index\": 81, \"d\": 0.07 },\n",
    "        { \"label_index\": 101, \"d\": 0.07 },\n",
    "        { \"label_index\": 111, \"d\": 0.07 },\n",
    "      ]\n",
    "    }\n",
    "  ]\n",
    "}"
   ]
  },
  {
   "cell_type": "markdown",
   "metadata": {},
   "source": [
    "# Json Schema 檢查"
   ]
  },
  {
   "cell_type": "code",
   "execution_count": 3,
   "metadata": {},
   "outputs": [
    {
     "name": "stdout",
     "output_type": "stream",
     "text": [
      "Pass Schema Modify your json.\n",
      "Done\n"
     ]
    }
   ],
   "source": [
    "fairy.json_scheme_check(sample_json = sample_json)"
   ]
  },
  {
   "cell_type": "markdown",
   "metadata": {},
   "source": [
    "# 基本 Json 寫入"
   ]
  },
  {
   "cell_type": "code",
   "execution_count": 4,
   "metadata": {},
   "outputs": [],
   "source": [
    "fairy.write_json_file(sample_json = sample_json)\n"
   ]
  },
  {
   "cell_type": "markdown",
   "metadata": {},
   "source": [
    "# 精簡 Json 寫入"
   ]
  },
  {
   "cell_type": "code",
   "execution_count": 2,
   "metadata": {},
   "outputs": [],
   "source": [
    "fairy.simplify_json_file()\n"
   ]
  },
  {
   "cell_type": "markdown",
   "metadata": {},
   "source": [
    "# 輸出 Hash Function"
   ]
  },
  {
   "cell_type": "code",
   "execution_count": 2,
   "metadata": {},
   "outputs": [
    {
     "name": "stdout",
     "output_type": "stream",
     "text": [
      "Hash :  c95ef57757074deddf49996c98aa1241\n"
     ]
    }
   ],
   "source": [
    "fairy.hash_function()"
   ]
  },
  {
   "cell_type": "markdown",
   "metadata": {},
   "source": [
    "# 恭喜你\n",
    "\n",
    "做到目前請去找 \"datas/labels.json\" 下載這個動作的 json 檔案，然後可以去實機測試效果（要記得改檔名喔）．"
   ]
  },
  {
   "cell_type": "code",
   "execution_count": null,
   "metadata": {},
   "outputs": [],
   "source": []
  },
  {
   "cell_type": "markdown",
   "metadata": {},
   "source": [
    "# 如果需要一個測試的暫時性 api server 做測試，可以繼續跑\n",
    "\n",
    "你需要 [Ngrok](https://ngrok.com/) 做反向代理，所以要在下面填入你的 authtoken key ，你可以免費申請到帳號，根據下圖你可以得到你的 authtoken key 。\n",
    "\n",
    "![Ngrok](pictures/Ngrok.png)\n",
    "\n",
    "\n",
    "\n"
   ]
  },
  {
   "cell_type": "code",
   "execution_count": null,
   "metadata": {},
   "outputs": [],
   "source": []
  },
  {
   "cell_type": "code",
   "execution_count": null,
   "metadata": {},
   "outputs": [],
   "source": []
  },
  {
   "cell_type": "code",
   "execution_count": 12,
   "metadata": {},
   "outputs": [],
   "source": [
    "\n",
    "\n",
    "\n"
   ]
  },
  {
   "cell_type": "code",
   "execution_count": null,
   "metadata": {},
   "outputs": [],
   "source": [
    "\n"
   ]
  },
  {
   "cell_type": "code",
   "execution_count": 1,
   "metadata": {},
   "outputs": [
    {
     "name": "stderr",
     "output_type": "stream",
     "text": [
      "2023-09-18 15:02:06.470505: I tensorflow/core/platform/cpu_feature_guard.cc:182] This TensorFlow binary is optimized to use available CPU instructions in performance-critical operations.\n",
      "To enable the following instructions: AVX2 AVX512F AVX512_VNNI FMA, in other operations, rebuild TensorFlow with the appropriate compiler flags.\n"
     ]
    },
    {
     "name": "stdout",
     "output_type": "stream",
     "text": [
      "video path : videos/20 min single dumbbell legs_fit.mp4, model path : manager/models/movenet_singlepose_thunder_4\n",
      "影片寬:1280, 影片高:720, 影片長:112, fps:29.97002997002997\n",
      "Moviepy - Building video videos_output/target.mp4.\n",
      "MoviePy - Writing audio in temp/temp.mp4\n"
     ]
    },
    {
     "name": "stderr",
     "output_type": "stream",
     "text": [
      "                                                                 \r"
     ]
    },
    {
     "name": "stdout",
     "output_type": "stream",
     "text": [
      "MoviePy - Done.\n",
      "Moviepy - Writing video videos_output/target.mp4\n",
      "\n"
     ]
    },
    {
     "name": "stderr",
     "output_type": "stream",
     "text": [
      "                                                              \r"
     ]
    },
    {
     "name": "stdout",
     "output_type": "stream",
     "text": [
      "Moviepy - Done !\n",
      "Moviepy - video ready videos_output/target.mp4\n",
      "Count:  100  Inference Average Time:  0.1046053409576416\n",
      "Can't receive frame (stream end?). Exiting ...\n",
      "frame size : (530, 530)\n",
      "Model Inference Done with count : 113\n",
      "Count : 0 Saving Video.\n",
      "frame shape : (530, 530, 3)\n",
      "Count : 100 Saving Video.\n",
      "Can't receive frame (stream end?). Exiting ...\n",
      "Video Save Done!\n"
     ]
    }
   ],
   "source": [
    "%reload_ext autoreload\n",
    "%autoreload 2\n",
    "\n",
    "from manager.util import Fairy\n",
    "from manager.video import Video\n",
    "\n",
    "fairy = Fairy()\n",
    "video = Video(video_path = fairy.video_path, frame_index = 70)\n",
    "video.draw_rectangle(video_hw = 530, start_x = 350, start_y = 120, show = False)\n",
    "video.video_cutting(flip_flag = False, show = False)\n",
    "fairy.model_inference_video()\n",
    "\n",
    "\n",
    "# fairy.modify_pickle(frame_index = 10, \n",
    "#                     body_index = 10,\n",
    "#                     x_rate = 0.5,\n",
    "#                     y_rate = 0.5,\n",
    "#                     save_pickle_check = False)\n"
   ]
  },
  {
   "cell_type": "code",
   "execution_count": 7,
   "metadata": {},
   "outputs": [
    {
     "name": "stdout",
     "output_type": "stream",
     "text": [
      "Pass Schema Modify your json.\n",
      "Done\n"
     ]
    }
   ],
   "source": [
    "\n",
    "fairy.json_scheme_check(sample_json = sample_json)\n",
    "\n"
   ]
  },
  {
   "cell_type": "code",
   "execution_count": null,
   "metadata": {},
   "outputs": [],
   "source": []
  },
  {
   "cell_type": "code",
   "execution_count": 5,
   "metadata": {},
   "outputs": [],
   "source": []
  },
  {
   "cell_type": "markdown",
   "metadata": {},
   "source": [
    "# List\n",
    "* conda install ipykernel\n",
    "* pip install opencv-python\n",
    "* pip install Pillow\n",
    "* pip install matplotlib\n",
    "* pip install moviepy\n",
    "* pip install tensorflow\n",
    "* pip install jsonschema\n",
    "* pip install numpy==1.23.5\n",
    "* "
   ]
  },
  {
   "cell_type": "code",
   "execution_count": null,
   "metadata": {},
   "outputs": [],
   "source": []
  }
 ],
 "metadata": {
  "interpreter": {
   "hash": "33b1cf68c3d66020aae857540820048b6ba1f77e725453eb384cfa8fd59a7a6f"
  },
  "kernelspec": {
   "display_name": "Python 3.9.12 ('py39')",
   "language": "python",
   "name": "python3"
  },
  "language_info": {
   "codemirror_mode": {
    "name": "ipython",
    "version": 3
   },
   "file_extension": ".py",
   "mimetype": "text/x-python",
   "name": "python",
   "nbconvert_exporter": "python",
   "pygments_lexer": "ipython3",
   "version": "3.9.12"
  },
  "orig_nbformat": 4
 },
 "nbformat": 4,
 "nbformat_minor": 2
}
